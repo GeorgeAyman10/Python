{
 "cells": [
  {
   "cell_type": "markdown",
   "metadata": {},
   "source": [
    "___\n",
    "\n",
    "<a href='https://www.udemy.com/user/joseportilla/'><img src='../Pierian_Data_Logo.png'/></a>\n",
    "___\n",
    "<center><em>Content Copyright by Pierian Data</em></center>"
   ]
  },
  {
   "cell_type": "markdown",
   "metadata": {},
   "source": [
    "# Milestone Project 1: Walkthrough Steps Workbook\n",
    "\n",
    "Below is a set of steps for you to follow to try to create the Tic Tac Toe Milestone Project game!"
   ]
  },
  {
   "cell_type": "markdown",
   "metadata": {},
   "source": [
    "#### Some suggested tools before you get started:\n",
    "To take input from a user:\n",
    "\n",
    "    player1 = input(\"Please pick a marker 'X' or 'O'\")\n",
    "    \n",
    "Note that input() takes in a string. If you need an integer value, use\n",
    "\n",
    "    position = int(input('Please enter a number'))\n",
    "    \n",
    "<br>To clear the screen between moves:\n",
    "\n",
    "    from IPython.display import clear_output\n",
    "    clear_output()\n",
    "    \n",
    "Note that clear_output() will only work in jupyter. To clear the screen in other IDEs, consider:\n",
    "\n",
    "    print('\\n'*100)\n",
    "    \n",
    "This scrolls the previous board up out of view. Now on to the program!"
   ]
  },
  {
   "cell_type": "markdown",
   "metadata": {},
   "source": [
    "**Step 1: Write a function that can print out a board. Set up your board as a list, where each index 1-9 corresponds with a number on a number pad, so you get a 3 by 3 board representation.**"
   ]
  },
  {
   "cell_type": "code",
   "execution_count": 1,
   "metadata": {},
   "outputs": [],
   "source": [
    "from IPython.display import clear_output\n",
    "\n",
    "def display_board(board):\n",
    "    print (board[6],'   |  ',board[7],'  |  ',board[8])\n",
    "    print ('----','|','-----','|','----')\n",
    "    print (board[3],'   |  ',board[4],'  |  ',board[5])\n",
    "    print ('----','|','-----','|','----')\n",
    "    print (board[0],'   |  ',board[1],'  |  ',board[2])\n",
    "    \n",
    "\n",
    "def display_board_pos():\n",
    "    print ('6','   |  ','7','  |  ','8')\n",
    "    print ('----','|','-----','|','----')\n",
    "    print ('3','   |  ','4','  |  ','5')\n",
    "    print ('----','|','-----','|','----')\n",
    "    print ('0','   |  ','1','  |  ','2')\n"
   ]
  },
  {
   "cell_type": "markdown",
   "metadata": {},
   "source": [
    "**TEST Step 1:** run your function on a test version of the board list, and make adjustments as necessary"
   ]
  },
  {
   "cell_type": "code",
   "execution_count": 2,
   "metadata": {},
   "outputs": [
    {
     "name": "stdout",
     "output_type": "stream",
     "text": [
      "O    |   X   |   O\n",
      "---- | ----- | ----\n",
      "X    |   O   |   X\n",
      "---- | ----- | ----\n",
      "#    |   X   |   O\n",
      "6    |   7   |   8\n",
      "---- | ----- | ----\n",
      "3    |   4   |   5\n",
      "---- | ----- | ----\n",
      "0    |   1   |   2\n"
     ]
    }
   ],
   "source": [
    "test_board = ['#','X','O','X','O','X','O','X','O','X']\n",
    "display_board(test_board)\n",
    "display_board_pos()"
   ]
  },
  {
   "cell_type": "markdown",
   "metadata": {},
   "source": [
    "**Step 2: Write a function that can take in a player input and assign their marker as 'X' or 'O'. Think about using *while* loops to continually ask until you get a correct answer.**"
   ]
  },
  {
   "cell_type": "code",
   "execution_count": 3,
   "metadata": {},
   "outputs": [],
   "source": [
    "def player_input():\n",
    "    XOChoice = False\n",
    "    XOset = ['X','O']\n",
    "    global XOPlayer\n",
    "    global marker\n",
    "    while XOChoice == False:\n",
    "        XO=input(\"Please Player ONE Choose X or O: \")\n",
    "        \n",
    "        if XO in XOset:\n",
    "            XOChoice = True\n",
    "            marker = XO\n",
    "            print(\"Player ONE Chose {} as his choise\".format(XO))\n",
    "            if XO =='X':\n",
    "                print(\"Player TWO Will Be O\")\n",
    "                XOPlayer = [1,2]\n",
    "            else:\n",
    "                print(\"Player TWO Will Be X\")\n",
    "                XOPlayer = [2,1]\n",
    "        else:\n",
    "            XOChoice = False\n",
    "            print(\"Please insert Correct Value X or O only !! {} this is incorrect value\".format(XO))"
   ]
  },
  {
   "cell_type": "markdown",
   "metadata": {},
   "source": [
    "**TEST Step 2:** run the function to make sure it returns the desired output"
   ]
  },
  {
   "cell_type": "code",
   "execution_count": 4,
   "metadata": {},
   "outputs": [
    {
     "name": "stdout",
     "output_type": "stream",
     "text": [
      "Please Player ONE Choose X or O: X\n",
      "Player ONE Chose X as his choise\n",
      "Player TWO Will Be O\n"
     ]
    }
   ],
   "source": [
    "player_input()"
   ]
  },
  {
   "cell_type": "markdown",
   "metadata": {},
   "source": [
    "**Step 3: Write a function that takes in the board list object, a marker ('X' or 'O'), and a desired position (number 1-9) and assigns it to the board.**"
   ]
  },
  {
   "cell_type": "code",
   "execution_count": 5,
   "metadata": {},
   "outputs": [],
   "source": [
    "def place_marker(board, marker, position):\n",
    "    board[int(position)]= marker"
   ]
  },
  {
   "cell_type": "markdown",
   "metadata": {},
   "source": [
    "**TEST Step 3:** run the place marker function using test parameters and display the modified board"
   ]
  },
  {
   "cell_type": "code",
   "execution_count": 6,
   "metadata": {},
   "outputs": [
    {
     "name": "stdout",
     "output_type": "stream",
     "text": [
      "O    |   X   |   $\n",
      "---- | ----- | ----\n",
      "X    |   O   |   X\n",
      "---- | ----- | ----\n",
      "#    |   X   |   O\n"
     ]
    }
   ],
   "source": [
    "place_marker(test_board,'$',8)\n",
    "display_board(test_board)"
   ]
  },
  {
   "cell_type": "markdown",
   "metadata": {},
   "source": [
    "**Step 4: Write a function that takes in a board and a mark (X or O) and then checks to see if that mark has won. **"
   ]
  },
  {
   "cell_type": "code",
   "execution_count": 7,
   "metadata": {},
   "outputs": [],
   "source": [
    "def win_check(board, mark):\n",
    "    if (board[0] == mark and board[1] == mark and board[2]== mark) or (board[3] == mark and board[4] == mark and board[5]== mark)  or (board[6] == mark and board[7] == mark and board[8]== mark)  or (board[6] == mark and board[3] == mark and board[0]== mark)  or (board[7] == mark and board[4] == mark and board[1]== mark)  or (board[8] == mark and board[5] == mark and board[2]== mark)  or (board[6] == mark and board[4] == mark and board[2]== mark)  or (board[8] == mark and board[4] == mark and board[0]) :\n",
    "        print (\"Winner !\")\n",
    "        return True\n",
    "    else:\n",
    "        return False\n",
    "    "
   ]
  },
  {
   "cell_type": "markdown",
   "metadata": {},
   "source": [
    "**TEST Step 4:** run the win_check function against our test_board - it should return True"
   ]
  },
  {
   "cell_type": "code",
   "execution_count": 8,
   "metadata": {},
   "outputs": [
    {
     "data": {
      "text/plain": [
       "False"
      ]
     },
     "execution_count": 8,
     "metadata": {},
     "output_type": "execute_result"
    }
   ],
   "source": [
    "win_check(test_board,'X')"
   ]
  },
  {
   "cell_type": "markdown",
   "metadata": {},
   "source": [
    "**Step 5: Write a function that uses the random module to randomly decide which player goes first. You may want to lookup random.randint() Return a string of which player went first.**"
   ]
  },
  {
   "cell_type": "code",
   "execution_count": 9,
   "metadata": {},
   "outputs": [],
   "source": [
    "import random\n",
    "\n",
    "def choose_first():\n",
    "    global marker\n",
    "    if random.randint(0,1) == 0:\n",
    "        print(\"Player X Starts !\")\n",
    "        marker = 'X'\n",
    "        return 'X'\n",
    "    else:\n",
    "        print(\"Player O Starts !\")\n",
    "        marker = 'O'\n",
    "        return 'O'"
   ]
  },
  {
   "cell_type": "markdown",
   "metadata": {},
   "source": [
    "**Step 6: Write a function that returns a boolean indicating whether a space on the board is freely available.**"
   ]
  },
  {
   "cell_type": "code",
   "execution_count": 10,
   "metadata": {},
   "outputs": [],
   "source": [
    "def space_check(board, position):\n",
    "    return board[int(position)] == ' '\n"
   ]
  },
  {
   "cell_type": "markdown",
   "metadata": {},
   "source": [
    "**Step 7: Write a function that checks if the board is full and returns a boolean value. True if full, False otherwise.**"
   ]
  },
  {
   "cell_type": "code",
   "execution_count": 11,
   "metadata": {},
   "outputs": [],
   "source": [
    "def full_board_check(board):\n",
    "    board_size = 0\n",
    "    for i in range (0,9) :\n",
    "        if board[i] == 'X' or board[i] == 'O':\n",
    "            board_size+=1\n",
    "    \n",
    "    return board_size == 9"
   ]
  },
  {
   "cell_type": "markdown",
   "metadata": {},
   "source": [
    "**Step 8: Write a function that asks for a player's next position (as a number 1-9) and then uses the function from step 6 to check if it's a free position. If it is, then return the position for later use.**"
   ]
  },
  {
   "cell_type": "code",
   "execution_count": 12,
   "metadata": {},
   "outputs": [],
   "source": [
    "def player_choice(board):\n",
    "    POSChoice = False\n",
    "    global INTPOS \n",
    "    while POSChoice == False :\n",
    "        POS=input(\"Please enter a value from 0-8 to indicate your play position: \")\n",
    "        if POS.isdigit() and int(POS) in range(0,9):\n",
    "            INTPOS=int(POS)\n",
    "            POSChoice = True           \n",
    "        else:\n",
    "            pass\n",
    "    return INTPOS"
   ]
  },
  {
   "cell_type": "markdown",
   "metadata": {},
   "source": [
    "**Step 9: Write a function that asks the player if they want to play again and returns a boolean True if they do want to play again.**"
   ]
  },
  {
   "cell_type": "code",
   "execution_count": 13,
   "metadata": {},
   "outputs": [],
   "source": [
    "def replay():\n",
    "    XOreplay = False\n",
    "    XOreplaySet = ['Y','N']\n",
    "    global XOPlay\n",
    "    global NOofPLAYES\n",
    "    global board\n",
    "    board = [' ',' ',' ',' ',' ',' ',' ',' ',' ']\n",
    "    while XOreplay == False:\n",
    "        XOPlay=input(\"Do You Want To Play Again??  Y or N: \")\n",
    "        NOofPLAYES = 0\n",
    "        if XOPlay in XOreplaySet:\n",
    "            XOreplay = True\n",
    "        else:\n",
    "            XOreplay = False\n",
    "            print(\"Please insert Correct Value Y or N only !! {} this is incorrect value\".format(XOPlay))\n",
    "    return XOPlay == 'Y'\n",
    "        "
   ]
  },
  {
   "cell_type": "code",
   "execution_count": 14,
   "metadata": {},
   "outputs": [],
   "source": [
    "pass"
   ]
  },
  {
   "cell_type": "markdown",
   "metadata": {
    "collapsed": true
   },
   "source": [
    "**Step 10: Here comes the hard part! Use while loops and the functions you've made to run the game!**"
   ]
  },
  {
   "cell_type": "code",
   "execution_count": 15,
   "metadata": {},
   "outputs": [
    {
     "name": "stdout",
     "output_type": "stream",
     "text": [
      "Welcome to Tic Tac Toe!\n",
      "Let's Start The Game !!! EA Sports To The GAMEEEEEEE !!!\n",
      "6    |   7   |   8\n",
      "---- | ----- | ----\n",
      "3    |   4   |   5\n",
      "---- | ----- | ----\n",
      "0    |   1   |   2\n",
      "Please Player ONE Choose X or O: X\n",
      "Player ONE Chose X as his choise\n",
      "Player TWO Will Be O\n",
      "Player O Starts !\n",
      "Please enter a value from 0-8 to indicate your play position: 0\n",
      "     |       |    \n",
      "---- | ----- | ----\n",
      "     |       |    \n",
      "---- | ----- | ----\n",
      "O    |       |    \n",
      "Please enter a value from 0-8 to indicate your play position: 8\n",
      "     |       |   X\n",
      "---- | ----- | ----\n",
      "     |       |    \n",
      "---- | ----- | ----\n",
      "O    |       |    \n",
      "Please enter a value from 0-8 to indicate your play position: 1\n",
      "     |       |   X\n",
      "---- | ----- | ----\n",
      "     |       |    \n",
      "---- | ----- | ----\n",
      "O    |   O   |    \n",
      "Please enter a value from 0-8 to indicate your play position: 7\n",
      "     |   X   |   X\n",
      "---- | ----- | ----\n",
      "     |       |    \n",
      "---- | ----- | ----\n",
      "O    |   O   |    \n",
      "Please enter a value from 0-8 to indicate your play position: 2\n",
      "Winner !\n",
      "Player 2 Wins !!\n",
      "     |   X   |   X\n",
      "---- | ----- | ----\n",
      "     |       |    \n",
      "---- | ----- | ----\n",
      "O    |   O   |   O\n",
      "Do You Want To Play Again??  Y or N: N\n"
     ]
    }
   ],
   "source": [
    "print('Welcome to Tic Tac Toe!')\n",
    "print(\"Let's Start The Game !!! EA Sports To The GAMEEEEEEE !!!\")\n",
    "XOPlay = 'Y'\n",
    "board = [' ',' ',' ',' ',' ',' ',' ',' ',' ']\n",
    "NOofPLAYES = 0\n",
    "oldmarker = ''\n",
    "\n",
    "while XOPlay == 'Y' or NOofPLAYES <=9:\n",
    "    \n",
    "    ## For The First Time Only Show The Empty Board And Choose Which Player Starts With Either X or O\n",
    "    if NOofPLAYES == 0 :\n",
    "        display_board_pos()\n",
    "        player_input()\n",
    "        choose_first()\n",
    "     \n",
    "    ## Take Value From 0-8\n",
    "    player_choice(board)\n",
    "    \n",
    "    ## While 0-8 already taken please insert in empty position\n",
    "    while space_check(board, INTPOS) == False:\n",
    "            print(\"This Position Already Contain {} , Please Choose Another Position \".format(board[INTPOS]))\n",
    "            player_choice(board)\n",
    "    \n",
    "    ## Toggle between X and O\n",
    "    if oldmarker == 'X':\n",
    "        marker = 'O'\n",
    "    elif oldmarker == 'O':\n",
    "        marker ='X'\n",
    "    else:\n",
    "        oldmarker = ''\n",
    "        \n",
    "    ## add the chosen value in the board and add number of plays +1\n",
    "    place_marker(board, marker, INTPOS)\n",
    "    NOofPLAYES+=1\n",
    "        \n",
    "    ## check if any player wins !!\n",
    "    if win_check(board, marker):\n",
    "        if marker == 'X':\n",
    "            print(\"Player {} Wins !!\".format(XOPlayer[0]))\n",
    "        else:\n",
    "            print(\"Player {} Wins !!\".format(XOPlayer[1]))\n",
    "        display_board(board)\n",
    "        if replay() == False:\n",
    "            break\n",
    "       \n",
    "    oldmarker = marker\n",
    "    \n",
    "    ## check if the game is draw!!\n",
    "    if full_board_check(board):\n",
    "        print(\"The Game is Draw !!\")\n",
    "        display_board(board)\n",
    "        if replay() == False:\n",
    "            break\n",
    "        \n",
    "    if NOofPLAYES != 0 :    \n",
    "        display_board(board)"
   ]
  },
  {
   "cell_type": "markdown",
   "metadata": {
    "collapsed": true
   },
   "source": [
    "## Good Job!"
   ]
  }
 ],
 "metadata": {
  "kernelspec": {
   "display_name": "Python 3 (ipykernel)",
   "language": "python",
   "name": "python3"
  },
  "language_info": {
   "codemirror_mode": {
    "name": "ipython",
    "version": 3
   },
   "file_extension": ".py",
   "mimetype": "text/x-python",
   "name": "python",
   "nbconvert_exporter": "python",
   "pygments_lexer": "ipython3",
   "version": "3.11.5"
  }
 },
 "nbformat": 4,
 "nbformat_minor": 1
}
